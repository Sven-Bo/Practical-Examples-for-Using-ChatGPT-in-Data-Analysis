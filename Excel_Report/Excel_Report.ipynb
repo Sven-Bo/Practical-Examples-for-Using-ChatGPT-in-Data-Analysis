{
 "cells": [
  {
   "cell_type": "markdown",
   "id": "01c4299a-b366-40b8-9d95-17f0779737cf",
   "metadata": {},
   "source": [
    "# Python and Excel: Generating Excel Reports"
   ]
  },
  {
   "cell_type": "markdown",
   "id": "3cc2294c-05d1-4310-9d57-8130a869a3b1",
   "metadata": {},
   "source": [
    "## Here is the game plan:"
   ]
  },
  {
   "cell_type": "markdown",
   "id": "fb83547a-6da2-484d-b8d6-bcf4d61a8510",
   "metadata": {
    "heading_collapsed": true
   },
   "source": [
    "### Before we start: Provide context"
   ]
  },
  {
   "cell_type": "markdown",
   "id": "707ef806-d8b7-49d0-9de0-61988da72ba7",
   "metadata": {
    "hidden": true
   },
   "source": [
    "> As a data analyst, I need your help with Python. \n",
    "  Please provide efficient, readable, and pythonic code that follows best practices.\n",
    "  Here is your first task in angled brackets:"
   ]
  },
  {
   "cell_type": "markdown",
   "id": "3b5b3c9e-3989-4581-8aed-f7b9516b9ab1",
   "metadata": {
    "heading_collapsed": true
   },
   "source": [
    "### Step 1: Data Collection and Consolidation"
   ]
  },
  {
   "cell_type": "markdown",
   "id": "54090a17-5733-4e68-804e-23aa73160009",
   "metadata": {
    "hidden": true
   },
   "source": [
    "> Write a Python script using pandas to combine data from multiple Excel spreadsheets located in the \"data\" folder. The spreadsheets have columns for \"Date\", \"Category\", \"Revenue\", and \"Expenses\"."
   ]
  },
  {
   "cell_type": "markdown",
   "id": "1146c3a7-f847-4e9c-8c8b-93d39d12e24a",
   "metadata": {
    "heading_collapsed": true
   },
   "source": [
    "### Step 2: Data Cleaning and Preparation"
   ]
  },
  {
   "cell_type": "markdown",
   "id": "60b5abc4-e406-4aff-84d5-974f1e8704eb",
   "metadata": {
    "hidden": true
   },
   "source": [
    "> Clean the consolidated data by removing duplicates and handling missing values"
   ]
  },
  {
   "cell_type": "markdown",
   "id": "8bf9b3b0-f780-4287-bc02-b8fb68a794f4",
   "metadata": {
    "heading_collapsed": true
   },
   "source": [
    "### Step 3: Data Analysis and Calculations"
   ]
  },
  {
   "cell_type": "markdown",
   "id": "c63f9acb-d0c1-4d29-b15c-82e1c1284c7a",
   "metadata": {
    "hidden": true
   },
   "source": [
    "> Using the cleaned data, calculate the total revenue, expenses, and profit for each category"
   ]
  },
  {
   "cell_type": "markdown",
   "id": "08b449c8-69f2-46e3-80b7-8cb6f3179ef0",
   "metadata": {
    "heading_collapsed": true
   },
   "source": [
    "### Step 4: Generating Excel Report"
   ]
  },
  {
   "cell_type": "markdown",
   "id": "563fe8a6-60be-4d5e-bdd4-dc3fa9ba6f6a",
   "metadata": {
    "hidden": true
   },
   "source": [
    "> Create an Excel report with a chart representing the total revenue, expenses, and profit by category using xlsxwriter"
   ]
  },
  {
   "cell_type": "markdown",
   "id": "2953436c",
   "metadata": {
    "heading_collapsed": true
   },
   "source": [
    "## Let's Code:"
   ]
  },
  {
   "cell_type": "code",
   "execution_count": 7,
   "id": "641801e5",
   "metadata": {
    "hidden": true
   },
   "outputs": [],
   "source": [
    "import xlsxwriter"
   ]
  },
  {
   "cell_type": "code",
   "execution_count": 4,
   "id": "3543cc3b",
   "metadata": {
    "hidden": true
   },
   "outputs": [
    {
     "name": "stdout",
     "output_type": "stream",
     "text": [
      "         Date Category  Revenue  Expenses      Source\n",
      "0  2021-01-01        A     1000       500  data1.xlsx\n",
      "1  2021-01-02        B     1500       800  data1.xlsx\n",
      "2  2021-01-03        C     1200       600  data1.xlsx\n",
      "3  2021-01-04        A      900       450  data1.xlsx\n",
      "4  2021-01-05        B     1600       850  data1.xlsx\n",
      "5  2021-01-06        C     1100       550  data2.xlsx\n",
      "6  2021-01-07        A      950       475  data2.xlsx\n",
      "7  2021-01-08        B     1400       700  data2.xlsx\n",
      "8  2021-01-09        C     1300       650  data2.xlsx\n",
      "9  2021-01-10        A     1000       500  data2.xlsx\n",
      "10 2021-01-11        B     1550       775  data3.xlsx\n",
      "11 2021-01-12        C     1250       625  data3.xlsx\n",
      "12 2021-01-13        A     1100       550  data3.xlsx\n",
      "13 2021-01-14        B     1450       725  data3.xlsx\n",
      "14 2021-01-15        C     1350       675  data3.xlsx\n"
     ]
    }
   ],
   "source": [
    "import pandas as pd\n",
    "import os\n",
    "\n",
    "# Define the path to the data folder\n",
    "data_folder = 'data'\n",
    "\n",
    "# Get a list of all the Excel files in the data folder\n",
    "excel_files = [f for f in os.listdir(data_folder) if f.endswith('.xlsx')]\n",
    "\n",
    "# Create an empty dataframe to hold the combined data\n",
    "combined_data = pd.DataFrame()\n",
    "\n",
    "# Loop through each Excel file and append its data to the combined_data dataframe\n",
    "for file in excel_files:\n",
    "    # Load the Excel file into a dataframe\n",
    "    df = pd.read_excel(os.path.join(data_folder, file))\n",
    "    \n",
    "    # Add a column to the dataframe to indicate the source file\n",
    "    df['Source'] = file\n",
    "    \n",
    "    # Append the data to the combined_data dataframe\n",
    "    combined_data = combined_data.append(df, ignore_index=True)\n",
    "\n",
    "# Print the combined data\n",
    "print(combined_data)\n"
   ]
  },
  {
   "cell_type": "code",
   "execution_count": 5,
   "id": "df0e02f1",
   "metadata": {
    "hidden": true
   },
   "outputs": [
    {
     "name": "stdout",
     "output_type": "stream",
     "text": [
      "         Date Category  Revenue  Expenses      Source\n",
      "0  2021-01-01        A     1000       500  data1.xlsx\n",
      "1  2021-01-02        B     1500       800  data1.xlsx\n",
      "2  2021-01-03        C     1200       600  data1.xlsx\n",
      "3  2021-01-04        A      900       450  data1.xlsx\n",
      "4  2021-01-05        B     1600       850  data1.xlsx\n",
      "5  2021-01-06        C     1100       550  data2.xlsx\n",
      "6  2021-01-07        A      950       475  data2.xlsx\n",
      "7  2021-01-08        B     1400       700  data2.xlsx\n",
      "8  2021-01-09        C     1300       650  data2.xlsx\n",
      "9  2021-01-10        A     1000       500  data2.xlsx\n",
      "10 2021-01-11        B     1550       775  data3.xlsx\n",
      "11 2021-01-12        C     1250       625  data3.xlsx\n",
      "12 2021-01-13        A     1100       550  data3.xlsx\n",
      "13 2021-01-14        B     1450       725  data3.xlsx\n",
      "14 2021-01-15        C     1350       675  data3.xlsx\n"
     ]
    }
   ],
   "source": [
    "# Drop duplicate rows\n",
    "combined_data.drop_duplicates(inplace=True)\n",
    "\n",
    "# Handle missing values\n",
    "combined_data.dropna(inplace=True)\n",
    "\n",
    "# Print the cleaned data\n",
    "print(combined_data)"
   ]
  },
  {
   "cell_type": "code",
   "execution_count": 6,
   "id": "e264e541",
   "metadata": {
    "hidden": true
   },
   "outputs": [
    {
     "name": "stdout",
     "output_type": "stream",
     "text": [
      "          Revenue  Expenses  Profit\n",
      "Category                           \n",
      "A            4950      2475    2475\n",
      "B            7500      3850    3650\n",
      "C            6200      3100    3100\n"
     ]
    }
   ],
   "source": [
    "# Calculate total revenue, expenses, and profit for each category\n",
    "category_data = combined_data.groupby('Category').agg({'Revenue': 'sum', 'Expenses': 'sum'})\n",
    "category_data['Profit'] = category_data['Revenue'] - category_data['Expenses']\n",
    "\n",
    "# Print the category data\n",
    "print(category_data)"
   ]
  },
  {
   "cell_type": "code",
   "execution_count": 8,
   "id": "f5ea603f",
   "metadata": {
    "hidden": true
   },
   "outputs": [
    {
     "name": "stdout",
     "output_type": "stream",
     "text": [
      "Report saved to category_report.xlsx.\n"
     ]
    }
   ],
   "source": [
    "# Create an Excel report\n",
    "report_name = 'category_report.xlsx'\n",
    "workbook = xlsxwriter.Workbook(report_name)\n",
    "worksheet = workbook.add_worksheet()\n",
    "\n",
    "# Write the category data to the report\n",
    "worksheet.write(0, 0, 'Category')\n",
    "worksheet.write(0, 1, 'Revenue')\n",
    "worksheet.write(0, 2, 'Expenses')\n",
    "worksheet.write(0, 3, 'Profit')\n",
    "\n",
    "row = 1\n",
    "for index, row_data in category_data.iterrows():\n",
    "    worksheet.write(row, 0, index)\n",
    "    worksheet.write(row, 1, row_data['Revenue'])\n",
    "    worksheet.write(row, 2, row_data['Expenses'])\n",
    "    worksheet.write(row, 3, row_data['Profit'])\n",
    "    row += 1\n",
    "\n",
    "# Create a chart representing the data\n",
    "chart = workbook.add_chart({'type': 'column'})\n",
    "\n",
    "chart.add_series({\n",
    "    'name': 'Revenue',\n",
    "    'categories': ['Sheet1', 1, 0, row - 1, 0],\n",
    "    'values': ['Sheet1', 1, 1, row - 1, 1],\n",
    "})\n",
    "\n",
    "chart.add_series({\n",
    "    'name': 'Expenses',\n",
    "    'categories': ['Sheet1', 1, 0, row - 1, 0],\n",
    "    'values': ['Sheet1', 1, 2, row - 1, 2],\n",
    "})\n",
    "\n",
    "chart.add_series({\n",
    "    'name': 'Profit',\n",
    "    'categories': ['Sheet1', 1, 0, row - 1, 0],\n",
    "    'values': ['Sheet1', 1, 3, row - 1, 3],\n",
    "})\n",
    "\n",
    "chart.set_title({'name': 'Total Revenue, Expenses, and Profit by Category'})\n",
    "chart.set_x_axis({'name': 'Category'})\n",
    "chart.set_y_axis({'name': 'Amount'})\n",
    "chart.set_legend({'position': 'bottom'})\n",
    "\n",
    "worksheet.insert_chart('E1', chart)\n",
    "\n",
    "# Close the workbook\n",
    "workbook.close()\n",
    "\n",
    "print(f'Report saved to {report_name}.')"
   ]
  },
  {
   "cell_type": "code",
   "execution_count": 9,
   "id": "84c02b13",
   "metadata": {
    "hidden": true
   },
   "outputs": [
    {
     "name": "stdout",
     "output_type": "stream",
     "text": [
      "Chart saved to category_chart.html.\n"
     ]
    }
   ],
   "source": [
    "import pandas as pd\n",
    "import os\n",
    "import plotly.express as px\n",
    "\n",
    "# Define the path to the data folder\n",
    "data_folder = 'data'\n",
    "\n",
    "# Get a list of all the Excel files in the data folder\n",
    "excel_files = [f for f in os.listdir(data_folder) if f.endswith('.xlsx')]\n",
    "\n",
    "# Create an empty dataframe to hold the combined data\n",
    "combined_data = pd.DataFrame()\n",
    "\n",
    "# Loop through each Excel file and append its data to the combined_data dataframe\n",
    "for file in excel_files:\n",
    "    # Load the Excel file into a dataframe\n",
    "    df = pd.read_excel(os.path.join(data_folder, file))\n",
    "    \n",
    "    # Add a column to the dataframe to indicate the source file\n",
    "    df['Source'] = file\n",
    "    \n",
    "    # Append the data to the combined_data dataframe\n",
    "    combined_data = combined_data.append(df, ignore_index=True)\n",
    "\n",
    "# Drop duplicate rows\n",
    "combined_data.drop_duplicates(inplace=True)\n",
    "\n",
    "# Handle missing values\n",
    "combined_data.dropna(inplace=True)\n",
    "\n",
    "# Calculate total revenue, expenses, and profit for each category\n",
    "category_data = combined_data.groupby('Category').agg({'Revenue': 'sum', 'Expenses': 'sum'})\n",
    "category_data['Profit'] = category_data['Revenue'] - category_data['Expenses']\n",
    "\n",
    "# Create an interactive chart using Plotly\n",
    "fig = px.bar(category_data, x=category_data.index, y=['Revenue', 'Expenses', 'Profit'], barmode='group', title='Total Revenue, Expenses, and Profit by Category')\n",
    "\n",
    "# Save the chart as an HTML file\n",
    "chart_name = 'category_chart.html'\n",
    "fig.write_html(chart_name)\n",
    "\n",
    "print(f'Chart saved to {chart_name}.')\n"
   ]
  }
 ],
 "metadata": {
  "kernelspec": {
   "display_name": "Python 3 (ipykernel)",
   "language": "python",
   "name": "python3"
  },
  "language_info": {
   "codemirror_mode": {
    "name": "ipython",
    "version": 3
   },
   "file_extension": ".py",
   "mimetype": "text/x-python",
   "name": "python",
   "nbconvert_exporter": "python",
   "pygments_lexer": "ipython3",
   "version": "3.11.1"
  }
 },
 "nbformat": 4,
 "nbformat_minor": 5
}
